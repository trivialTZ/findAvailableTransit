{
 "cells": [
  {
   "cell_type": "markdown",
   "metadata": {},
   "source": []
  },
  {
   "cell_type": "code",
   "execution_count": 1,
   "metadata": {},
   "outputs": [
    {
     "name": "stdout",
     "output_type": "stream",
     "text": [
      "Column names: ['pl_name', 'rastr', 'ra', 'decstr', 'dec', 'default_flag', 'pl_refname', 'pl_orbper', 'pl_rade', 'pl_orbeccen', 'pl_orbincl', 'pl_tranmid', 'ttv_flag', 'pl_imppar', 'pl_trandep', 'pl_trandur', 'pl_ratdor', 'pl_ratror', 'st_refname', 'st_teff', 'st_rad', 'st_logg', 'sy_refname', 'sy_vmag', 'sy_kmag', 'rowupdate', 'pl_pubdate', 'releasedate']\n"
     ]
    }
   ],
   "source": [
    "import pandas as pd\n",
    "\n",
    "# Define the path for the Excel file\n",
    "excel_file_path = \"/Users/liuzhanyu/Desktop/transit_data.xlsx\"\n",
    "\n",
    "# Load the data from the Excel file\n",
    "exoplanet_data_excel = pd.read_excel(excel_file_path)\n",
    "\n",
    "# Print out the column names to confirm they are correct\n",
    "print(\"Column names:\", exoplanet_data_excel.columns.tolist())\n",
    "\n",
    "\n"
   ]
  },
  {
   "cell_type": "code",
   "execution_count": 2,
   "metadata": {},
   "outputs": [],
   "source": [
    "# Use the correct column names as verified from the Excel file\n",
    "# Replace 'pl_tranmid' and 'pl_orbper' with the correct column names\n",
    "filtered_data = exoplanet_data_excel.dropna(subset=['pl_tranmid', 'pl_orbper', 'pl_trandur'])\n",
    "\n",
    "# Select only the necessary columns, replace with the correct column names\n",
    "final_data = filtered_data[['pl_name', 'pl_tranmid', 'pl_orbper', 'pl_trandur']]\n",
    "\n",
    "# Define the path for the new file\n",
    "new_file_path = \"/Users/liuzhanyu/Desktop/new_data.xlsx\"\n",
    "\n",
    "# Save the DataFrame to the new Excel file\n",
    "final_data.to_excel(new_file_path, index=False)"
   ]
  }
 ],
 "metadata": {
  "kernelspec": {
   "display_name": "Python 3",
   "language": "python",
   "name": "python3"
  },
  "language_info": {
   "codemirror_mode": {
    "name": "ipython",
    "version": 3
   },
   "file_extension": ".py",
   "mimetype": "text/x-python",
   "name": "python",
   "nbconvert_exporter": "python",
   "pygments_lexer": "ipython3",
   "version": "3.11.4"
  }
 },
 "nbformat": 4,
 "nbformat_minor": 2
}
